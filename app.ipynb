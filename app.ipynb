{
 "cells": [
  {
   "cell_type": "code",
   "execution_count": 1,
   "metadata": {},
   "outputs": [],
   "source": [
    "import numpy as np\n",
    "import matplotlib.pyplot as plt\n",
    "import cv2 as cv"
   ]
  },
  {
   "cell_type": "code",
   "execution_count": null,
   "metadata": {},
   "outputs": [],
   "source": []
  },
  {
   "cell_type": "code",
   "execution_count": null,
   "metadata": {},
   "outputs": [],
   "source": [
    "image = cv.imread('Y1.jpg')\n",
    "image = cv.cvtColor(image , cv.COLOR_BGR2GRAY)\n",
    "plt.imshow(image , cmap='gray')"
   ]
  },
  {
   "cell_type": "code",
   "execution_count": null,
   "metadata": {},
   "outputs": [],
   "source": [
    "image_contrast_stretch = image.copy()\n",
    "for x in range(image_contrast_stretch.shape[0]):\n",
    "    for y in range(image_contrast_stretch.shape[1]):\n",
    "        image_contrast_stretch[x , y] = 255 * ( (image_contrast_stretch[x,y]) - np.min(image_contrast_stretch) / (np.max(image_contrast_stretch) - np.min(image_contrast_stretch))  )"
   ]
  },
  {
   "cell_type": "code",
   "execution_count": null,
   "metadata": {},
   "outputs": [],
   "source": [
    "plt.imshow(image_contrast_stretch , cmap='gray')"
   ]
  },
  {
   "cell_type": "code",
   "execution_count": null,
   "metadata": {},
   "outputs": [],
   "source": [
    "x_ray = cv.imread('x_ray.jpg')\n",
    "x_ray = cv.cvtColor(x_ray , cv.COLOR_BGR2GRAY)\n",
    "plt.imshow(x_ray , cmap='gray')"
   ]
  },
  {
   "cell_type": "code",
   "execution_count": null,
   "metadata": {},
   "outputs": [],
   "source": [
    "x_ray_copy = x_ray.copy()\n",
    "for x in range(x_ray_copy.shape[0]):\n",
    "    for y in range(x_ray_copy.shape[1]):\n",
    "        if(x_ray_copy[x,y] >=150 and x_ray_copy[x,y] <= 255):\n",
    "            x_ray_copy[x , y] = 255\n",
    "        else:\n",
    "            x_ray_copy[x , y ] = 0"
   ]
  },
  {
   "cell_type": "code",
   "execution_count": null,
   "metadata": {},
   "outputs": [],
   "source": [
    "plt.figure(figsize= (10 , 20))\n",
    "plt.imshow(x_ray_copy , cmap='gray')"
   ]
  },
  {
   "cell_type": "code",
   "execution_count": null,
   "metadata": {},
   "outputs": [],
   "source": []
  }
 ],
 "metadata": {
  "interpreter": {
   "hash": "a7481aa2922ff70454c7e4dd8235c977b304245240cc8266acb0070b0cd9588f"
  },
  "kernelspec": {
   "display_name": "image",
   "language": "python",
   "name": "image"
  },
  "language_info": {
   "codemirror_mode": {
    "name": "ipython",
    "version": 3
   },
   "file_extension": ".py",
   "mimetype": "text/x-python",
   "name": "python",
   "nbconvert_exporter": "python",
   "pygments_lexer": "ipython3",
   "version": "3.10.4"
  },
  "orig_nbformat": 4
 },
 "nbformat": 4,
 "nbformat_minor": 2
}
